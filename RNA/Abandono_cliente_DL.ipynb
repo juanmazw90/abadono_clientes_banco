{
 "cells": [
  {
   "cell_type": "markdown",
   "metadata": {
    "id": "qA--9cAW2UyP"
   },
   "source": [
    "# Redes Neuronales Artificales\n"
   ]
  },
  {
   "cell_type": "markdown",
   "metadata": {},
   "source": [
    "# Set-Up"
   ]
  },
  {
   "cell_type": "code",
   "execution_count": 81,
   "metadata": {},
   "outputs": [],
   "source": [
    "import numpy as np\n",
    "import matplotlib.pyplot as plt\n",
    "import pandas as pd\n",
    "\n",
    "from sklearn.preprocessing import LabelEncoder\n",
    "from sklearn.preprocessing import OneHotEncoder\n",
    "from sklearn.compose import ColumnTransformer\n",
    "\n",
    "\n",
    "from sklearn.preprocessing import KBinsDiscretizer\n",
    "from sklearn.preprocessing import Binarizer\n",
    "from sklearn.preprocessing import MinMaxScaler\n",
    "\n",
    "from sklearn.model_selection import GridSearchCV\n",
    "\n",
    "import warnings\n",
    "warnings.filterwarnings('ignore')"
   ]
  },
  {
   "cell_type": "markdown",
   "metadata": {
    "id": "lxUxkKp23ELX"
   },
   "source": [
    "## Parte 1 - Pre procesado de datos"
   ]
  },
  {
   "cell_type": "markdown",
   "metadata": {
    "id": "fyQNJ1Fe2sLx"
   },
   "source": [
    "\n",
    "### Importar el data set\n"
   ]
  },
  {
   "cell_type": "code",
   "execution_count": 8,
   "metadata": {
    "colab": {
     "base_uri": "https://localhost:8080/",
     "height": 124
    },
    "id": "4nx2S7CZ39ri",
    "outputId": "326ab9ea-9187-4cc3-f3bb-98156c06ad60"
   },
   "outputs": [
    {
     "data": {
      "text/html": [
       "<div>\n",
       "<style scoped>\n",
       "    .dataframe tbody tr th:only-of-type {\n",
       "        vertical-align: middle;\n",
       "    }\n",
       "\n",
       "    .dataframe tbody tr th {\n",
       "        vertical-align: top;\n",
       "    }\n",
       "\n",
       "    .dataframe thead th {\n",
       "        text-align: right;\n",
       "    }\n",
       "</style>\n",
       "<table border=\"1\" class=\"dataframe\">\n",
       "  <thead>\n",
       "    <tr style=\"text-align: right;\">\n",
       "      <th></th>\n",
       "      <th>RowNumber</th>\n",
       "      <th>CustomerId</th>\n",
       "      <th>Surname</th>\n",
       "      <th>CreditScore</th>\n",
       "      <th>Geography</th>\n",
       "      <th>Gender</th>\n",
       "      <th>Age</th>\n",
       "      <th>Tenure</th>\n",
       "      <th>Balance</th>\n",
       "      <th>NumOfProducts</th>\n",
       "      <th>HasCrCard</th>\n",
       "      <th>IsActiveMember</th>\n",
       "      <th>EstimatedSalary</th>\n",
       "      <th>Exited</th>\n",
       "    </tr>\n",
       "  </thead>\n",
       "  <tbody>\n",
       "    <tr>\n",
       "      <th>0</th>\n",
       "      <td>1</td>\n",
       "      <td>15634602</td>\n",
       "      <td>Hargrave</td>\n",
       "      <td>619</td>\n",
       "      <td>France</td>\n",
       "      <td>Female</td>\n",
       "      <td>42</td>\n",
       "      <td>2</td>\n",
       "      <td>0.00</td>\n",
       "      <td>1</td>\n",
       "      <td>1</td>\n",
       "      <td>1</td>\n",
       "      <td>101348.88</td>\n",
       "      <td>1</td>\n",
       "    </tr>\n",
       "    <tr>\n",
       "      <th>1</th>\n",
       "      <td>2</td>\n",
       "      <td>15647311</td>\n",
       "      <td>Hill</td>\n",
       "      <td>608</td>\n",
       "      <td>Spain</td>\n",
       "      <td>Female</td>\n",
       "      <td>41</td>\n",
       "      <td>1</td>\n",
       "      <td>83807.86</td>\n",
       "      <td>1</td>\n",
       "      <td>0</td>\n",
       "      <td>1</td>\n",
       "      <td>112542.58</td>\n",
       "      <td>0</td>\n",
       "    </tr>\n",
       "    <tr>\n",
       "      <th>2</th>\n",
       "      <td>3</td>\n",
       "      <td>15619304</td>\n",
       "      <td>Onio</td>\n",
       "      <td>502</td>\n",
       "      <td>France</td>\n",
       "      <td>Female</td>\n",
       "      <td>42</td>\n",
       "      <td>8</td>\n",
       "      <td>159660.80</td>\n",
       "      <td>3</td>\n",
       "      <td>1</td>\n",
       "      <td>0</td>\n",
       "      <td>113931.57</td>\n",
       "      <td>1</td>\n",
       "    </tr>\n",
       "    <tr>\n",
       "      <th>3</th>\n",
       "      <td>4</td>\n",
       "      <td>15701354</td>\n",
       "      <td>Boni</td>\n",
       "      <td>699</td>\n",
       "      <td>France</td>\n",
       "      <td>Female</td>\n",
       "      <td>39</td>\n",
       "      <td>1</td>\n",
       "      <td>0.00</td>\n",
       "      <td>2</td>\n",
       "      <td>0</td>\n",
       "      <td>0</td>\n",
       "      <td>93826.63</td>\n",
       "      <td>0</td>\n",
       "    </tr>\n",
       "    <tr>\n",
       "      <th>4</th>\n",
       "      <td>5</td>\n",
       "      <td>15737888</td>\n",
       "      <td>Mitchell</td>\n",
       "      <td>850</td>\n",
       "      <td>Spain</td>\n",
       "      <td>Female</td>\n",
       "      <td>43</td>\n",
       "      <td>2</td>\n",
       "      <td>125510.82</td>\n",
       "      <td>1</td>\n",
       "      <td>1</td>\n",
       "      <td>1</td>\n",
       "      <td>79084.10</td>\n",
       "      <td>0</td>\n",
       "    </tr>\n",
       "    <tr>\n",
       "      <th>...</th>\n",
       "      <td>...</td>\n",
       "      <td>...</td>\n",
       "      <td>...</td>\n",
       "      <td>...</td>\n",
       "      <td>...</td>\n",
       "      <td>...</td>\n",
       "      <td>...</td>\n",
       "      <td>...</td>\n",
       "      <td>...</td>\n",
       "      <td>...</td>\n",
       "      <td>...</td>\n",
       "      <td>...</td>\n",
       "      <td>...</td>\n",
       "      <td>...</td>\n",
       "    </tr>\n",
       "    <tr>\n",
       "      <th>9995</th>\n",
       "      <td>9996</td>\n",
       "      <td>15606229</td>\n",
       "      <td>Obijiaku</td>\n",
       "      <td>771</td>\n",
       "      <td>France</td>\n",
       "      <td>Male</td>\n",
       "      <td>39</td>\n",
       "      <td>5</td>\n",
       "      <td>0.00</td>\n",
       "      <td>2</td>\n",
       "      <td>1</td>\n",
       "      <td>0</td>\n",
       "      <td>96270.64</td>\n",
       "      <td>0</td>\n",
       "    </tr>\n",
       "    <tr>\n",
       "      <th>9996</th>\n",
       "      <td>9997</td>\n",
       "      <td>15569892</td>\n",
       "      <td>Johnstone</td>\n",
       "      <td>516</td>\n",
       "      <td>France</td>\n",
       "      <td>Male</td>\n",
       "      <td>35</td>\n",
       "      <td>10</td>\n",
       "      <td>57369.61</td>\n",
       "      <td>1</td>\n",
       "      <td>1</td>\n",
       "      <td>1</td>\n",
       "      <td>101699.77</td>\n",
       "      <td>0</td>\n",
       "    </tr>\n",
       "    <tr>\n",
       "      <th>9997</th>\n",
       "      <td>9998</td>\n",
       "      <td>15584532</td>\n",
       "      <td>Liu</td>\n",
       "      <td>709</td>\n",
       "      <td>France</td>\n",
       "      <td>Female</td>\n",
       "      <td>36</td>\n",
       "      <td>7</td>\n",
       "      <td>0.00</td>\n",
       "      <td>1</td>\n",
       "      <td>0</td>\n",
       "      <td>1</td>\n",
       "      <td>42085.58</td>\n",
       "      <td>1</td>\n",
       "    </tr>\n",
       "    <tr>\n",
       "      <th>9998</th>\n",
       "      <td>9999</td>\n",
       "      <td>15682355</td>\n",
       "      <td>Sabbatini</td>\n",
       "      <td>772</td>\n",
       "      <td>Germany</td>\n",
       "      <td>Male</td>\n",
       "      <td>42</td>\n",
       "      <td>3</td>\n",
       "      <td>75075.31</td>\n",
       "      <td>2</td>\n",
       "      <td>1</td>\n",
       "      <td>0</td>\n",
       "      <td>92888.52</td>\n",
       "      <td>1</td>\n",
       "    </tr>\n",
       "    <tr>\n",
       "      <th>9999</th>\n",
       "      <td>10000</td>\n",
       "      <td>15628319</td>\n",
       "      <td>Walker</td>\n",
       "      <td>792</td>\n",
       "      <td>France</td>\n",
       "      <td>Female</td>\n",
       "      <td>28</td>\n",
       "      <td>4</td>\n",
       "      <td>130142.79</td>\n",
       "      <td>1</td>\n",
       "      <td>1</td>\n",
       "      <td>0</td>\n",
       "      <td>38190.78</td>\n",
       "      <td>0</td>\n",
       "    </tr>\n",
       "  </tbody>\n",
       "</table>\n",
       "<p>10000 rows × 14 columns</p>\n",
       "</div>"
      ],
      "text/plain": [
       "      RowNumber  CustomerId    Surname  CreditScore Geography  Gender  Age  \\\n",
       "0             1    15634602   Hargrave          619    France  Female   42   \n",
       "1             2    15647311       Hill          608     Spain  Female   41   \n",
       "2             3    15619304       Onio          502    France  Female   42   \n",
       "3             4    15701354       Boni          699    France  Female   39   \n",
       "4             5    15737888   Mitchell          850     Spain  Female   43   \n",
       "...         ...         ...        ...          ...       ...     ...  ...   \n",
       "9995       9996    15606229   Obijiaku          771    France    Male   39   \n",
       "9996       9997    15569892  Johnstone          516    France    Male   35   \n",
       "9997       9998    15584532        Liu          709    France  Female   36   \n",
       "9998       9999    15682355  Sabbatini          772   Germany    Male   42   \n",
       "9999      10000    15628319     Walker          792    France  Female   28   \n",
       "\n",
       "      Tenure    Balance  NumOfProducts  HasCrCard  IsActiveMember  \\\n",
       "0          2       0.00              1          1               1   \n",
       "1          1   83807.86              1          0               1   \n",
       "2          8  159660.80              3          1               0   \n",
       "3          1       0.00              2          0               0   \n",
       "4          2  125510.82              1          1               1   \n",
       "...      ...        ...            ...        ...             ...   \n",
       "9995       5       0.00              2          1               0   \n",
       "9996      10   57369.61              1          1               1   \n",
       "9997       7       0.00              1          0               1   \n",
       "9998       3   75075.31              2          1               0   \n",
       "9999       4  130142.79              1          1               0   \n",
       "\n",
       "      EstimatedSalary  Exited  \n",
       "0           101348.88       1  \n",
       "1           112542.58       0  \n",
       "2           113931.57       1  \n",
       "3            93826.63       0  \n",
       "4            79084.10       0  \n",
       "...               ...     ...  \n",
       "9995         96270.64       0  \n",
       "9996        101699.77       0  \n",
       "9997         42085.58       1  \n",
       "9998         92888.52       1  \n",
       "9999         38190.78       0  \n",
       "\n",
       "[10000 rows x 14 columns]"
      ]
     },
     "execution_count": 8,
     "metadata": {},
     "output_type": "execute_result"
    }
   ],
   "source": [
    "df = pd.read_csv('C:/Users/COMPUTADORA/Desktop/CURSOS Udemy/Deep Learning de A a Z redes neuronales en Python desde cero/deeplearning-az-master/original/Part 1 - Artificial Neural Networks (ANN)/Churn_Modelling.csv')\n",
    "df.drop(columns='RowNumber',inplace = True)\n",
    "df"
   ]
  },
  {
   "cell_type": "code",
   "execution_count": 23,
   "metadata": {},
   "outputs": [
    {
     "name": "stdout",
     "output_type": "stream",
     "text": [
      "<class 'pandas.core.frame.DataFrame'>\n",
      "RangeIndex: 10000 entries, 0 to 9999\n",
      "Data columns (total 13 columns):\n",
      " #   Column           Non-Null Count  Dtype  \n",
      "---  ------           --------------  -----  \n",
      " 0   CustomerId       10000 non-null  int64  \n",
      " 1   Surname          10000 non-null  object \n",
      " 2   CreditScore      10000 non-null  int64  \n",
      " 3   Geography        10000 non-null  object \n",
      " 4   Gender           10000 non-null  object \n",
      " 5   Age              10000 non-null  int64  \n",
      " 6   Tenure           10000 non-null  int64  \n",
      " 7   Balance          10000 non-null  float64\n",
      " 8   NumOfProducts    10000 non-null  int64  \n",
      " 9   HasCrCard        10000 non-null  int64  \n",
      " 10  IsActiveMember   10000 non-null  int64  \n",
      " 11  EstimatedSalary  10000 non-null  float64\n",
      " 12  Exited           10000 non-null  int64  \n",
      "dtypes: float64(2), int64(8), object(3)\n",
      "memory usage: 1015.8+ KB\n"
     ]
    }
   ],
   "source": [
    "df.info()"
   ]
  },
  {
   "cell_type": "markdown",
   "metadata": {},
   "source": [
    "### separar categoricas y numericas"
   ]
  },
  {
   "cell_type": "code",
   "execution_count": 11,
   "metadata": {},
   "outputs": [],
   "source": [
    "cat= df.select_dtypes(exclude = 'number').copy()\n",
    "num= df.select_dtypes(include='number').copy()"
   ]
  },
  {
   "cell_type": "markdown",
   "metadata": {},
   "source": [
    "### Separar Target"
   ]
  },
  {
   "cell_type": "markdown",
   "metadata": {
    "id": "YMjk10V02yjw"
   },
   "source": [
    "\n",
    "### Codificar datos categóricos\n"
   ]
  },
  {
   "cell_type": "code",
   "execution_count": 14,
   "metadata": {},
   "outputs": [
    {
     "data": {
      "text/plain": [
       "Index(['Surname', 'Geography', 'Gender'], dtype='object')"
      ]
     },
     "execution_count": 14,
     "metadata": {},
     "output_type": "execute_result"
    }
   ],
   "source": [
    "cat.columns"
   ]
  },
  {
   "cell_type": "code",
   "execution_count": 40,
   "metadata": {},
   "outputs": [],
   "source": [
    "var_ohe = ['Geography', 'Gender']"
   ]
  },
  {
   "cell_type": "code",
   "execution_count": 41,
   "metadata": {},
   "outputs": [],
   "source": [
    "ohe = OneHotEncoder(sparse = False, handle_unknown='ignore')"
   ]
  },
  {
   "cell_type": "code",
   "execution_count": 42,
   "metadata": {},
   "outputs": [],
   "source": [
    "cat_ohe = ohe.fit_transform(cat[var_ohe])"
   ]
  },
  {
   "cell_type": "code",
   "execution_count": 43,
   "metadata": {},
   "outputs": [],
   "source": [
    "cat_ohe = pd.DataFrame(cat_ohe, columns = ohe.get_feature_names_out())"
   ]
  },
  {
   "cell_type": "code",
   "execution_count": 25,
   "metadata": {},
   "outputs": [],
   "source": [
    "x = df.drop(columns='Exited')\n",
    "y = df['Exited']"
   ]
  },
  {
   "cell_type": "markdown",
   "metadata": {},
   "source": [
    "### Codificar datos numericos"
   ]
  },
  {
   "cell_type": "code",
   "execution_count": 21,
   "metadata": {},
   "outputs": [
    {
     "data": {
      "text/plain": [
       "Index(['CustomerId', 'CreditScore', 'Age', 'Tenure', 'Balance',\n",
       "       'NumOfProducts', 'HasCrCard', 'IsActiveMember', 'EstimatedSalary',\n",
       "       'Exited'],\n",
       "      dtype='object')"
      ]
     },
     "execution_count": 21,
     "metadata": {},
     "output_type": "execute_result"
    }
   ],
   "source": [
    "num.columns"
   ]
  },
  {
   "cell_type": "code",
   "execution_count": 24,
   "metadata": {},
   "outputs": [],
   "source": [
    "var_mms = num[['CreditScore',\n",
    "               'Age', 'Tenure', 'Balance',\n",
    "               'NumOfProducts', 'HasCrCard',\n",
    "               'EstimatedSalary',\n",
    "                       ]]"
   ]
  },
  {
   "cell_type": "code",
   "execution_count": 28,
   "metadata": {},
   "outputs": [],
   "source": [
    "mms = MinMaxScaler()\n",
    "df_mms = mms.fit_transform(var_mms)"
   ]
  },
  {
   "cell_type": "code",
   "execution_count": 38,
   "metadata": {},
   "outputs": [],
   "source": [
    "#Añadir sufijos a los nombres\n",
    "nombres_mms = [variable + '_mms' for variable in var_mms]\n",
    "\n",
    "#Guardar como dataframe\n",
    "df_mms = pd.DataFrame(df_mms,columns = nombres_mms)"
   ]
  },
  {
   "cell_type": "code",
   "execution_count": 39,
   "metadata": {},
   "outputs": [
    {
     "data": {
      "text/html": [
       "<div>\n",
       "<style scoped>\n",
       "    .dataframe tbody tr th:only-of-type {\n",
       "        vertical-align: middle;\n",
       "    }\n",
       "\n",
       "    .dataframe tbody tr th {\n",
       "        vertical-align: top;\n",
       "    }\n",
       "\n",
       "    .dataframe thead th {\n",
       "        text-align: right;\n",
       "    }\n",
       "</style>\n",
       "<table border=\"1\" class=\"dataframe\">\n",
       "  <thead>\n",
       "    <tr style=\"text-align: right;\">\n",
       "      <th></th>\n",
       "      <th>CreditScore_mms</th>\n",
       "      <th>Age_mms</th>\n",
       "      <th>Tenure_mms</th>\n",
       "      <th>Balance_mms</th>\n",
       "      <th>NumOfProducts_mms</th>\n",
       "      <th>HasCrCard_mms</th>\n",
       "      <th>EstimatedSalary_mms</th>\n",
       "    </tr>\n",
       "  </thead>\n",
       "  <tbody>\n",
       "    <tr>\n",
       "      <th>0</th>\n",
       "      <td>0.538</td>\n",
       "      <td>0.324324</td>\n",
       "      <td>0.2</td>\n",
       "      <td>0.000000</td>\n",
       "      <td>0.000000</td>\n",
       "      <td>1.0</td>\n",
       "      <td>0.506735</td>\n",
       "    </tr>\n",
       "    <tr>\n",
       "      <th>1</th>\n",
       "      <td>0.516</td>\n",
       "      <td>0.310811</td>\n",
       "      <td>0.1</td>\n",
       "      <td>0.334031</td>\n",
       "      <td>0.000000</td>\n",
       "      <td>0.0</td>\n",
       "      <td>0.562709</td>\n",
       "    </tr>\n",
       "    <tr>\n",
       "      <th>2</th>\n",
       "      <td>0.304</td>\n",
       "      <td>0.324324</td>\n",
       "      <td>0.8</td>\n",
       "      <td>0.636357</td>\n",
       "      <td>0.666667</td>\n",
       "      <td>1.0</td>\n",
       "      <td>0.569654</td>\n",
       "    </tr>\n",
       "    <tr>\n",
       "      <th>3</th>\n",
       "      <td>0.698</td>\n",
       "      <td>0.283784</td>\n",
       "      <td>0.1</td>\n",
       "      <td>0.000000</td>\n",
       "      <td>0.333333</td>\n",
       "      <td>0.0</td>\n",
       "      <td>0.469120</td>\n",
       "    </tr>\n",
       "    <tr>\n",
       "      <th>4</th>\n",
       "      <td>1.000</td>\n",
       "      <td>0.337838</td>\n",
       "      <td>0.2</td>\n",
       "      <td>0.500246</td>\n",
       "      <td>0.000000</td>\n",
       "      <td>1.0</td>\n",
       "      <td>0.395400</td>\n",
       "    </tr>\n",
       "    <tr>\n",
       "      <th>...</th>\n",
       "      <td>...</td>\n",
       "      <td>...</td>\n",
       "      <td>...</td>\n",
       "      <td>...</td>\n",
       "      <td>...</td>\n",
       "      <td>...</td>\n",
       "      <td>...</td>\n",
       "    </tr>\n",
       "    <tr>\n",
       "      <th>9995</th>\n",
       "      <td>0.842</td>\n",
       "      <td>0.283784</td>\n",
       "      <td>0.5</td>\n",
       "      <td>0.000000</td>\n",
       "      <td>0.333333</td>\n",
       "      <td>1.0</td>\n",
       "      <td>0.481341</td>\n",
       "    </tr>\n",
       "    <tr>\n",
       "      <th>9996</th>\n",
       "      <td>0.332</td>\n",
       "      <td>0.229730</td>\n",
       "      <td>1.0</td>\n",
       "      <td>0.228657</td>\n",
       "      <td>0.000000</td>\n",
       "      <td>1.0</td>\n",
       "      <td>0.508490</td>\n",
       "    </tr>\n",
       "    <tr>\n",
       "      <th>9997</th>\n",
       "      <td>0.718</td>\n",
       "      <td>0.243243</td>\n",
       "      <td>0.7</td>\n",
       "      <td>0.000000</td>\n",
       "      <td>0.000000</td>\n",
       "      <td>0.0</td>\n",
       "      <td>0.210390</td>\n",
       "    </tr>\n",
       "    <tr>\n",
       "      <th>9998</th>\n",
       "      <td>0.844</td>\n",
       "      <td>0.324324</td>\n",
       "      <td>0.3</td>\n",
       "      <td>0.299226</td>\n",
       "      <td>0.333333</td>\n",
       "      <td>1.0</td>\n",
       "      <td>0.464429</td>\n",
       "    </tr>\n",
       "    <tr>\n",
       "      <th>9999</th>\n",
       "      <td>0.884</td>\n",
       "      <td>0.135135</td>\n",
       "      <td>0.4</td>\n",
       "      <td>0.518708</td>\n",
       "      <td>0.000000</td>\n",
       "      <td>1.0</td>\n",
       "      <td>0.190914</td>\n",
       "    </tr>\n",
       "  </tbody>\n",
       "</table>\n",
       "<p>10000 rows × 7 columns</p>\n",
       "</div>"
      ],
      "text/plain": [
       "      CreditScore_mms   Age_mms  Tenure_mms  Balance_mms  NumOfProducts_mms  \\\n",
       "0               0.538  0.324324         0.2     0.000000           0.000000   \n",
       "1               0.516  0.310811         0.1     0.334031           0.000000   \n",
       "2               0.304  0.324324         0.8     0.636357           0.666667   \n",
       "3               0.698  0.283784         0.1     0.000000           0.333333   \n",
       "4               1.000  0.337838         0.2     0.500246           0.000000   \n",
       "...               ...       ...         ...          ...                ...   \n",
       "9995            0.842  0.283784         0.5     0.000000           0.333333   \n",
       "9996            0.332  0.229730         1.0     0.228657           0.000000   \n",
       "9997            0.718  0.243243         0.7     0.000000           0.000000   \n",
       "9998            0.844  0.324324         0.3     0.299226           0.333333   \n",
       "9999            0.884  0.135135         0.4     0.518708           0.000000   \n",
       "\n",
       "      HasCrCard_mms  EstimatedSalary_mms  \n",
       "0               1.0             0.506735  \n",
       "1               0.0             0.562709  \n",
       "2               1.0             0.569654  \n",
       "3               0.0             0.469120  \n",
       "4               1.0             0.395400  \n",
       "...             ...                  ...  \n",
       "9995            1.0             0.481341  \n",
       "9996            1.0             0.508490  \n",
       "9997            0.0             0.210390  \n",
       "9998            1.0             0.464429  \n",
       "9999            1.0             0.190914  \n",
       "\n",
       "[10000 rows x 7 columns]"
      ]
     },
     "execution_count": 39,
     "metadata": {},
     "output_type": "execute_result"
    }
   ],
   "source": [
    "df_mms"
   ]
  },
  {
   "cell_type": "code",
   "execution_count": 46,
   "metadata": {},
   "outputs": [],
   "source": [
    "incluir_pd = [cat_ohe, df_mms]"
   ]
  },
  {
   "cell_type": "code",
   "execution_count": 47,
   "metadata": {},
   "outputs": [],
   "source": [
    "df_transf = pd.concat(incluir_pd, axis = 1)"
   ]
  },
  {
   "cell_type": "markdown",
   "metadata": {},
   "source": [
    "\n",
    "### Separar target y predictoras"
   ]
  },
  {
   "cell_type": "code",
   "execution_count": 50,
   "metadata": {},
   "outputs": [],
   "source": [
    "x = df_transf\n",
    "y = df['Exited']"
   ]
  },
  {
   "cell_type": "markdown",
   "metadata": {
    "id": "3xHLqRxA23Fl"
   },
   "source": [
    "\n",
    "### Dividir el data set en conjunto de entrenamiento y conjunto de testing\n"
   ]
  },
  {
   "cell_type": "code",
   "execution_count": 51,
   "metadata": {
    "id": "GjoCCGxl26dA"
   },
   "outputs": [],
   "source": [
    "from sklearn.model_selection import train_test_split\n",
    "X_train, X_test, y_train, y_test = train_test_split(x, y, test_size = 0.2, random_state = 0)"
   ]
  },
  {
   "cell_type": "code",
   "execution_count": 61,
   "metadata": {},
   "outputs": [
    {
     "data": {
      "text/plain": [
       "(8000, 12)"
      ]
     },
     "execution_count": 61,
     "metadata": {},
     "output_type": "execute_result"
    }
   ],
   "source": [
    "X_train.shape"
   ]
  },
  {
   "cell_type": "markdown",
   "metadata": {
    "id": "w4l-48uB3PMl"
   },
   "source": [
    "## Parte 2 - Construir la RNA\n",
    "\n",
    "\n"
   ]
  },
  {
   "cell_type": "code",
   "execution_count": 56,
   "metadata": {
    "id": "zlWo_SIV3UAC"
   },
   "outputs": [],
   "source": [
    "# Importar Keras y librerías adicionales\n",
    "import keras\n",
    "from keras.models import Sequential\n",
    "from keras.layers import Dense\n",
    "from keras.layers import Dropout"
   ]
  },
  {
   "cell_type": "code",
   "execution_count": 62,
   "metadata": {},
   "outputs": [
    {
     "data": {
      "text/plain": [
       "(8000, 12)"
      ]
     },
     "execution_count": 62,
     "metadata": {},
     "output_type": "execute_result"
    }
   ],
   "source": [
    "X_train.shape"
   ]
  },
  {
   "cell_type": "code",
   "execution_count": 84,
   "metadata": {
    "colab": {
     "base_uri": "https://localhost:8080/",
     "height": 1000
    },
    "id": "RKFdMhmm3W5W",
    "outputId": "487c5481-669e-41d9-d08c-4281c26c549d"
   },
   "outputs": [],
   "source": [
    "# Inicializar la RNA\n",
    "classifier = Sequential()\n",
    "\n",
    "# Añadir las capas de entrada y primera capa oculta\n",
    "classifier.add(Dense(units= 12, kernel_initializer = \"uniform\",\n",
    "                     activation = \"relu\", input_dim = 12))\n",
    "classifier.add(Dropout( 0.1))\n",
    "\n",
    "# Añadir la segunda capa oculta\n",
    "classifier.add(Dense(units = 6, kernel_initializer = \"uniform\",  activation = \"relu\"))\n",
    "classifier.add(Dropout( 0.1))\n",
    "\n",
    "# Añadir la capa de salida\n",
    "classifier.add(Dense(units = 1, kernel_initializer = \"uniform\",  activation = \"sigmoid\"))\n",
    "\n",
    "# Compilar la RNA\n",
    "classifier.compile(optimizer = \"adam\", loss = \"binary_crossentropy\", metrics = [\"accuracy\"])\n",
    "\n"
   ]
  },
  {
   "cell_type": "markdown",
   "metadata": {},
   "source": [
    "# Entrenamiento"
   ]
  },
  {
   "cell_type": "code",
   "execution_count": 85,
   "metadata": {},
   "outputs": [
    {
     "name": "stdout",
     "output_type": "stream",
     "text": [
      "Epoch 1/100\n",
      "800/800 [==============================] - 2s 2ms/step - loss: 0.5245 - accuracy: 0.7959\n",
      "Epoch 2/100\n",
      "800/800 [==============================] - 1s 2ms/step - loss: 0.4822 - accuracy: 0.7960\n",
      "Epoch 3/100\n",
      "800/800 [==============================] - 1s 2ms/step - loss: 0.4722 - accuracy: 0.7960\n",
      "Epoch 4/100\n",
      "800/800 [==============================] - 1s 2ms/step - loss: 0.4666 - accuracy: 0.7960\n",
      "Epoch 5/100\n",
      "800/800 [==============================] - 1s 2ms/step - loss: 0.4560 - accuracy: 0.7960\n",
      "Epoch 6/100\n",
      "800/800 [==============================] - 1s 2ms/step - loss: 0.4478 - accuracy: 0.7960\n",
      "Epoch 7/100\n",
      "800/800 [==============================] - 1s 2ms/step - loss: 0.4431 - accuracy: 0.7960\n",
      "Epoch 8/100\n",
      "800/800 [==============================] - 2s 3ms/step - loss: 0.4390 - accuracy: 0.7960\n",
      "Epoch 9/100\n",
      "800/800 [==============================] - 2s 3ms/step - loss: 0.4404 - accuracy: 0.7960\n",
      "Epoch 10/100\n",
      "800/800 [==============================] - 2s 2ms/step - loss: 0.4404 - accuracy: 0.7960\n",
      "Epoch 11/100\n",
      "800/800 [==============================] - 2s 2ms/step - loss: 0.4385 - accuracy: 0.7960\n",
      "Epoch 12/100\n",
      "800/800 [==============================] - 2s 2ms/step - loss: 0.4372 - accuracy: 0.7960\n",
      "Epoch 13/100\n",
      "800/800 [==============================] - 2s 2ms/step - loss: 0.4374 - accuracy: 0.7960\n",
      "Epoch 14/100\n",
      "800/800 [==============================] - 2s 2ms/step - loss: 0.4375 - accuracy: 0.7960\n",
      "Epoch 15/100\n",
      "800/800 [==============================] - 2s 2ms/step - loss: 0.4368 - accuracy: 0.7960\n",
      "Epoch 16/100\n",
      "800/800 [==============================] - 2s 2ms/step - loss: 0.4337 - accuracy: 0.7960\n",
      "Epoch 17/100\n",
      "800/800 [==============================] - 2s 2ms/step - loss: 0.4290 - accuracy: 0.7960\n",
      "Epoch 18/100\n",
      "800/800 [==============================] - 2s 2ms/step - loss: 0.4273 - accuracy: 0.7960\n",
      "Epoch 19/100\n",
      "800/800 [==============================] - 2s 2ms/step - loss: 0.4236 - accuracy: 0.7960\n",
      "Epoch 20/100\n",
      "800/800 [==============================] - 2s 2ms/step - loss: 0.4233 - accuracy: 0.7960\n",
      "Epoch 21/100\n",
      "800/800 [==============================] - 2s 2ms/step - loss: 0.4207 - accuracy: 0.7960\n",
      "Epoch 22/100\n",
      "800/800 [==============================] - 2s 2ms/step - loss: 0.4166 - accuracy: 0.7960\n",
      "Epoch 23/100\n",
      "800/800 [==============================] - 2s 2ms/step - loss: 0.4197 - accuracy: 0.7960\n",
      "Epoch 24/100\n",
      "800/800 [==============================] - 2s 2ms/step - loss: 0.4117 - accuracy: 0.7960\n",
      "Epoch 25/100\n",
      "800/800 [==============================] - 2s 2ms/step - loss: 0.4120 - accuracy: 0.7960\n",
      "Epoch 26/100\n",
      "800/800 [==============================] - 2s 2ms/step - loss: 0.4116 - accuracy: 0.8015\n",
      "Epoch 27/100\n",
      "800/800 [==============================] - 2s 2ms/step - loss: 0.4095 - accuracy: 0.8151\n",
      "Epoch 28/100\n",
      "800/800 [==============================] - 2s 2ms/step - loss: 0.4084 - accuracy: 0.8135\n",
      "Epoch 29/100\n",
      "800/800 [==============================] - 2s 2ms/step - loss: 0.4093 - accuracy: 0.8173\n",
      "Epoch 30/100\n",
      "800/800 [==============================] - 2s 2ms/step - loss: 0.4045 - accuracy: 0.8206\n",
      "Epoch 31/100\n",
      "800/800 [==============================] - 2s 2ms/step - loss: 0.4011 - accuracy: 0.8225\n",
      "Epoch 32/100\n",
      "800/800 [==============================] - 2s 2ms/step - loss: 0.4094 - accuracy: 0.8221\n",
      "Epoch 33/100\n",
      "800/800 [==============================] - 2s 2ms/step - loss: 0.4033 - accuracy: 0.8221\n",
      "Epoch 34/100\n",
      "800/800 [==============================] - 2s 2ms/step - loss: 0.4060 - accuracy: 0.8223\n",
      "Epoch 35/100\n",
      "800/800 [==============================] - 2s 2ms/step - loss: 0.4009 - accuracy: 0.8239\n",
      "Epoch 36/100\n",
      "800/800 [==============================] - 2s 2ms/step - loss: 0.3968 - accuracy: 0.8285\n",
      "Epoch 37/100\n",
      "800/800 [==============================] - 2s 2ms/step - loss: 0.3968 - accuracy: 0.8284\n",
      "Epoch 38/100\n",
      "800/800 [==============================] - 2s 2ms/step - loss: 0.4006 - accuracy: 0.8280\n",
      "Epoch 39/100\n",
      "800/800 [==============================] - 2s 2ms/step - loss: 0.3969 - accuracy: 0.8304\n",
      "Epoch 40/100\n",
      "800/800 [==============================] - 2s 2ms/step - loss: 0.3966 - accuracy: 0.8301\n",
      "Epoch 41/100\n",
      "800/800 [==============================] - 2s 2ms/step - loss: 0.3935 - accuracy: 0.8285\n",
      "Epoch 42/100\n",
      "800/800 [==============================] - 2s 2ms/step - loss: 0.3976 - accuracy: 0.8288\n",
      "Epoch 43/100\n",
      "800/800 [==============================] - 2s 2ms/step - loss: 0.3984 - accuracy: 0.8301\n",
      "Epoch 44/100\n",
      "800/800 [==============================] - 2s 2ms/step - loss: 0.3998 - accuracy: 0.8294\n",
      "Epoch 45/100\n",
      "800/800 [==============================] - 2s 2ms/step - loss: 0.3940 - accuracy: 0.8307\n",
      "Epoch 46/100\n",
      "800/800 [==============================] - 2s 2ms/step - loss: 0.3977 - accuracy: 0.8313\n",
      "Epoch 47/100\n",
      "800/800 [==============================] - 2s 2ms/step - loss: 0.3949 - accuracy: 0.8351\n",
      "Epoch 48/100\n",
      "800/800 [==============================] - 2s 2ms/step - loss: 0.3954 - accuracy: 0.8326\n",
      "Epoch 49/100\n",
      "800/800 [==============================] - 2s 2ms/step - loss: 0.3961 - accuracy: 0.8325\n",
      "Epoch 50/100\n",
      "800/800 [==============================] - 2s 2ms/step - loss: 0.4011 - accuracy: 0.8303\n",
      "Epoch 51/100\n",
      "800/800 [==============================] - 2s 2ms/step - loss: 0.3974 - accuracy: 0.8326\n",
      "Epoch 52/100\n",
      "800/800 [==============================] - 2s 2ms/step - loss: 0.3990 - accuracy: 0.8325\n",
      "Epoch 53/100\n",
      "800/800 [==============================] - 2s 2ms/step - loss: 0.3933 - accuracy: 0.8338\n",
      "Epoch 54/100\n",
      "800/800 [==============================] - 2s 2ms/step - loss: 0.3973 - accuracy: 0.8294\n",
      "Epoch 55/100\n",
      "800/800 [==============================] - 2s 2ms/step - loss: 0.3958 - accuracy: 0.8310\n",
      "Epoch 56/100\n",
      "800/800 [==============================] - 2s 2ms/step - loss: 0.3954 - accuracy: 0.8341\n",
      "Epoch 57/100\n",
      "800/800 [==============================] - 2s 2ms/step - loss: 0.3976 - accuracy: 0.8291\n",
      "Epoch 58/100\n",
      "800/800 [==============================] - 2s 2ms/step - loss: 0.3947 - accuracy: 0.8335\n",
      "Epoch 59/100\n",
      "800/800 [==============================] - 2s 2ms/step - loss: 0.3963 - accuracy: 0.8314\n",
      "Epoch 60/100\n",
      "800/800 [==============================] - 2s 2ms/step - loss: 0.3978 - accuracy: 0.8304\n",
      "Epoch 61/100\n",
      "800/800 [==============================] - 2s 2ms/step - loss: 0.3941 - accuracy: 0.8334\n",
      "Epoch 62/100\n",
      "800/800 [==============================] - 2s 2ms/step - loss: 0.3972 - accuracy: 0.8309\n",
      "Epoch 63/100\n",
      "800/800 [==============================] - 2s 2ms/step - loss: 0.3941 - accuracy: 0.8309\n",
      "Epoch 64/100\n",
      "800/800 [==============================] - 2s 2ms/step - loss: 0.3938 - accuracy: 0.8339\n",
      "Epoch 65/100\n",
      "800/800 [==============================] - 2s 2ms/step - loss: 0.3965 - accuracy: 0.8313\n",
      "Epoch 66/100\n",
      "800/800 [==============================] - 2s 2ms/step - loss: 0.3967 - accuracy: 0.8338\n",
      "Epoch 67/100\n",
      "800/800 [==============================] - 2s 2ms/step - loss: 0.3945 - accuracy: 0.8321\n",
      "Epoch 68/100\n",
      "800/800 [==============================] - 2s 2ms/step - loss: 0.3956 - accuracy: 0.8328\n",
      "Epoch 69/100\n",
      "800/800 [==============================] - 2s 2ms/step - loss: 0.3939 - accuracy: 0.8339\n",
      "Epoch 70/100\n",
      "800/800 [==============================] - 2s 2ms/step - loss: 0.3924 - accuracy: 0.8330\n",
      "Epoch 71/100\n",
      "800/800 [==============================] - 2s 2ms/step - loss: 0.3943 - accuracy: 0.8328\n",
      "Epoch 72/100\n",
      "800/800 [==============================] - 2s 2ms/step - loss: 0.3917 - accuracy: 0.8332\n",
      "Epoch 73/100\n",
      "800/800 [==============================] - 2s 2ms/step - loss: 0.3940 - accuracy: 0.8317\n",
      "Epoch 74/100\n",
      "800/800 [==============================] - 2s 2ms/step - loss: 0.3970 - accuracy: 0.8320\n",
      "Epoch 75/100\n",
      "800/800 [==============================] - 2s 2ms/step - loss: 0.3951 - accuracy: 0.8322\n",
      "Epoch 76/100\n",
      "800/800 [==============================] - 2s 2ms/step - loss: 0.3943 - accuracy: 0.8290\n",
      "Epoch 77/100\n",
      "800/800 [==============================] - 2s 2ms/step - loss: 0.3941 - accuracy: 0.8288\n",
      "Epoch 78/100\n",
      "800/800 [==============================] - 2s 2ms/step - loss: 0.3978 - accuracy: 0.8319\n",
      "Epoch 79/100\n",
      "800/800 [==============================] - 2s 2ms/step - loss: 0.3938 - accuracy: 0.8319\n",
      "Epoch 80/100\n",
      "800/800 [==============================] - 2s 2ms/step - loss: 0.3942 - accuracy: 0.8359\n",
      "Epoch 81/100\n"
     ]
    },
    {
     "name": "stdout",
     "output_type": "stream",
     "text": [
      "800/800 [==============================] - 2s 2ms/step - loss: 0.3937 - accuracy: 0.8332\n",
      "Epoch 82/100\n",
      "800/800 [==============================] - 2s 2ms/step - loss: 0.3959 - accuracy: 0.8329\n",
      "Epoch 83/100\n",
      "800/800 [==============================] - 2s 2ms/step - loss: 0.3921 - accuracy: 0.8338\n",
      "Epoch 84/100\n",
      "800/800 [==============================] - 2s 2ms/step - loss: 0.3913 - accuracy: 0.8344\n",
      "Epoch 85/100\n",
      "800/800 [==============================] - 2s 2ms/step - loss: 0.3935 - accuracy: 0.8346\n",
      "Epoch 86/100\n",
      "800/800 [==============================] - 2s 2ms/step - loss: 0.3954 - accuracy: 0.8355\n",
      "Epoch 87/100\n",
      "800/800 [==============================] - 2s 2ms/step - loss: 0.3951 - accuracy: 0.8349\n",
      "Epoch 88/100\n",
      "800/800 [==============================] - 2s 2ms/step - loss: 0.3926 - accuracy: 0.8366\n",
      "Epoch 89/100\n",
      "800/800 [==============================] - 2s 2ms/step - loss: 0.3897 - accuracy: 0.8331\n",
      "Epoch 90/100\n",
      "800/800 [==============================] - 2s 2ms/step - loss: 0.3927 - accuracy: 0.8330\n",
      "Epoch 91/100\n",
      "800/800 [==============================] - 2s 2ms/step - loss: 0.3919 - accuracy: 0.8350\n",
      "Epoch 92/100\n",
      "800/800 [==============================] - 2s 2ms/step - loss: 0.3931 - accuracy: 0.8331\n",
      "Epoch 93/100\n",
      "800/800 [==============================] - 2s 2ms/step - loss: 0.3888 - accuracy: 0.8354\n",
      "Epoch 94/100\n",
      "800/800 [==============================] - 2s 2ms/step - loss: 0.3909 - accuracy: 0.8361\n",
      "Epoch 95/100\n",
      "800/800 [==============================] - 2s 2ms/step - loss: 0.3832 - accuracy: 0.8389\n",
      "Epoch 96/100\n",
      "800/800 [==============================] - 2s 2ms/step - loss: 0.3870 - accuracy: 0.8353\n",
      "Epoch 97/100\n",
      "800/800 [==============================] - 2s 2ms/step - loss: 0.3899 - accuracy: 0.8331\n",
      "Epoch 98/100\n",
      "800/800 [==============================] - 2s 2ms/step - loss: 0.3816 - accuracy: 0.8378\n",
      "Epoch 99/100\n",
      "800/800 [==============================] - 2s 2ms/step - loss: 0.3839 - accuracy: 0.8379\n",
      "Epoch 100/100\n",
      "800/800 [==============================] - 2s 2ms/step - loss: 0.3851 - accuracy: 0.8384\n"
     ]
    },
    {
     "data": {
      "text/plain": [
       "<keras.callbacks.History at 0x1bd73fa5ac0>"
      ]
     },
     "execution_count": 85,
     "metadata": {},
     "output_type": "execute_result"
    }
   ],
   "source": [
    "# Ajustamos la RNA al Conjunto de Entrenamiento\n",
    "classifier.fit(X_train, y_train,  batch_size = 10, epochs = 100)\n"
   ]
  },
  {
   "cell_type": "markdown",
   "metadata": {
    "id": "fcOc30yH3Y1Y"
   },
   "source": [
    "#  Evaluar el modelo y calcular predicciones finales\n"
   ]
  },
  {
   "cell_type": "markdown",
   "metadata": {
    "id": "2DQVgZme3bK5"
   },
   "source": [
    "### Predicción de los resultados con el Conjunto de Testing"
   ]
  },
  {
   "cell_type": "code",
   "execution_count": 86,
   "metadata": {
    "id": "YNcMBpVN3dc4"
   },
   "outputs": [
    {
     "name": "stdout",
     "output_type": "stream",
     "text": [
      "63/63 [==============================] - 0s 2ms/step\n"
     ]
    }
   ],
   "source": [
    "y_pred  = classifier.predict(X_test)\n",
    "y_pred = (y_pred>0.5)"
   ]
  },
  {
   "cell_type": "markdown",
   "metadata": {
    "id": "6iIyHSCl3e2N"
   },
   "source": [
    "### Elaborar una matriz de confusión\n",
    "\n"
   ]
  },
  {
   "cell_type": "code",
   "execution_count": 70,
   "metadata": {
    "colab": {
     "base_uri": "https://localhost:8080/",
     "height": 52
    },
    "id": "sk2c1O423jK1",
    "outputId": "7f1155b5-a42c-412d-8136-20cc424d5806"
   },
   "outputs": [
    {
     "name": "stdout",
     "output_type": "stream",
     "text": [
      "[[1542   53]\n",
      " [ 309   96]]\n"
     ]
    }
   ],
   "source": [
    "from sklearn.metrics import confusion_matrix\n",
    "cm = confusion_matrix(y_test, y_pred)\n",
    "print(cm)"
   ]
  },
  {
   "cell_type": "code",
   "execution_count": 88,
   "metadata": {
    "colab": {
     "base_uri": "https://localhost:8080/",
     "height": 35
    },
    "id": "8PoTb_yS91aa",
    "outputId": "53ffcde6-1438-4fbe-867f-fa4123bf52a1"
   },
   "outputs": [
    {
     "data": {
      "text/plain": [
       "0.846"
      ]
     },
     "execution_count": 88,
     "metadata": {},
     "output_type": "execute_result"
    }
   ],
   "source": [
    "(cm[0][0]+cm[1][1])/cm.sum()"
   ]
  },
  {
   "cell_type": "markdown",
   "metadata": {
    "id": "Oiy2emXGJ1IL"
   },
   "source": [
    "## Parte 4 - Evaluar, mejorar y Ajustar la RNA"
   ]
  },
  {
   "cell_type": "markdown",
   "metadata": {
    "id": "jx4IOfqoJ5os"
   },
   "source": [
    "### Evaluar la **RNA**"
   ]
  },
  {
   "cell_type": "code",
   "execution_count": 72,
   "metadata": {
    "id": "nEmanr_kJ7nR"
   },
   "outputs": [],
   "source": [
    "from keras.wrappers.scikit_learn import KerasClassifier\n",
    "from sklearn.model_selection import cross_val_score"
   ]
  },
  {
   "cell_type": "code",
   "execution_count": 89,
   "metadata": {
    "id": "fnXLzDSmOAEz"
   },
   "outputs": [],
   "source": [
    "def build_classifier():\n",
    "  # Inicializar la RNA\n",
    "  classifier = Sequential()\n",
    "\n",
    "  # Añadir las capas de entrada y primera capa oculta\n",
    "  classifier.add(Dense(units = 6, kernel_initializer = \"uniform\",\n",
    "                      activation = \"relu\", input_dim = 12))\n",
    "  classifier.add(Dropout( 0.1))\n",
    "\n",
    "  # Añadir la segunda capa oculta\n",
    "  classifier.add(Dense(units = 6, kernel_initializer = \"uniform\",  activation = \"relu\"))\n",
    "  classifier.add(Dropout( 0.1))\n",
    "    \n",
    "  # Añadir la capa de salida\n",
    "  classifier.add(Dense(units = 1, kernel_initializer = \"uniform\",  activation = \"sigmoid\"))\n",
    "\n",
    "  # Compilar la RNA\n",
    "  classifier.compile(optimizer = \"adam\", loss = \"binary_crossentropy\", metrics = [\"accuracy\"])\n",
    "\n",
    "  # Devolver el clasificador\n",
    "  return classifier"
   ]
  },
  {
   "cell_type": "code",
   "execution_count": 90,
   "metadata": {
    "colab": {
     "base_uri": "https://localhost:8080/",
     "height": 52
    },
    "id": "d_-95TJXO4bm",
    "outputId": "9a03c7c9-9d6d-431c-ef91-afbbad920eb9"
   },
   "outputs": [
    {
     "name": "stderr",
     "output_type": "stream",
     "text": [
      "[Parallel(n_jobs=-1)]: Using backend LokyBackend with 4 concurrent workers.\n",
      "[Parallel(n_jobs=-1)]: Done  10 out of  10 | elapsed:   32.9s finished\n"
     ]
    }
   ],
   "source": [
    "classifier = KerasClassifier(build_fn = build_classifier, batch_size = 10, nb_epoch = 100)\n",
    "accuracies = cross_val_score(estimator=classifier, X = X_train, y = y_train, cv = 10, n_jobs=-1, verbose = 1)"
   ]
  },
  {
   "cell_type": "code",
   "execution_count": 91,
   "metadata": {
    "colab": {
     "base_uri": "https://localhost:8080/",
     "height": 52
    },
    "id": "rBbEN_KFRIgm",
    "outputId": "5fd87068-2cee-4b9a-a04f-bf5ea63159be"
   },
   "outputs": [
    {
     "data": {
      "text/plain": [
       "array([0.78625   , 0.79000002, 0.80000001, 0.78250003, 0.81625003,\n",
       "       0.81      , 0.78750002, 0.79374999, 0.79874998, 0.79500002])"
      ]
     },
     "execution_count": 91,
     "metadata": {},
     "output_type": "execute_result"
    }
   ],
   "source": [
    "accuracies"
   ]
  },
  {
   "cell_type": "code",
   "execution_count": 92,
   "metadata": {
    "colab": {
     "base_uri": "https://localhost:8080/",
     "height": 52
    },
    "id": "Mlp3wSR_RVMc",
    "outputId": "868de7ef-cedc-4020-a28a-8f50e2db69b0"
   },
   "outputs": [
    {
     "name": "stdout",
     "output_type": "stream",
     "text": [
      "0.7960000097751617\n",
      "0.010105690527913859\n"
     ]
    }
   ],
   "source": [
    "mean = accuracies.mean()\n",
    "variance = accuracies.std()\n",
    "print(mean)\n",
    "print(variance)"
   ]
  },
  {
   "cell_type": "markdown",
   "metadata": {
    "id": "ZD2SQis0J7yH"
   },
   "source": [
    "### Mejorar la RNA\n",
    "#### Regularización de Dropout para evitar el *overfitting*"
   ]
  },
  {
   "cell_type": "markdown",
   "metadata": {
    "id": "v5jhH4xYJ-a2"
   },
   "source": [
    "### Ajustar la *RNA*"
   ]
  },
  {
   "cell_type": "code",
   "execution_count": 93,
   "metadata": {
    "id": "56OQnuNqdP8K"
   },
   "outputs": [],
   "source": [
    "def build_classifier(optimizer):\n",
    "  # Inicializar la RNA\n",
    "  classifier = Sequential()\n",
    "\n",
    "  # Añadir las capas de entrada y primera capa oculta\n",
    "  classifier.add(Dense(units = 6, kernel_initializer = \"uniform\",\n",
    "                      activation = \"relu\", input_dim = 12))\n",
    "\n",
    "  # Añadir la segunda capa oculta\n",
    "  classifier.add(Dense(units = 6, kernel_initializer = \"uniform\",  activation = \"relu\"))\n",
    "  classifier.add(Dropout( 0.1))\n",
    "\n",
    "  # Añadir la capa de salida\n",
    "  classifier.add(Dense(units = 1, kernel_initializer = \"uniform\",  activation = \"sigmoid\"))\n",
    "  classifier.add(Dropout( 0.1))\n",
    "    \n",
    "  # Compilar la RNA\n",
    "  classifier.compile(optimizer = optimizer, loss = \"binary_crossentropy\", metrics = [\"accuracy\"])\n",
    "\n",
    "  # Devolver el clasificador\n",
    "  return classifier"
   ]
  },
  {
   "cell_type": "code",
   "execution_count": 94,
   "metadata": {
    "id": "LQmzH82SbrnV"
   },
   "outputs": [],
   "source": [
    "classifier = KerasClassifier(build_fn = build_classifier)"
   ]
  },
  {
   "cell_type": "code",
   "execution_count": 95,
   "metadata": {
    "id": "O3dQRLtzb6A0"
   },
   "outputs": [],
   "source": [
    "parameters = {\n",
    "    'batch_size' : [25,32],\n",
    "    'nb_epoch' : [100, 500],\n",
    "    'optimizer' : ['adam', 'rmsprop']\n",
    "}"
   ]
  },
  {
   "cell_type": "code",
   "execution_count": 96,
   "metadata": {
    "colab": {
     "base_uri": "https://localhost:8080/",
     "height": 966
    },
    "id": "UGgiAsE_eDtL",
    "outputId": "750705c9-e78c-4bbe-eabe-d89dcce5b7cd"
   },
   "outputs": [
    {
     "name": "stdout",
     "output_type": "stream",
     "text": [
      "288/288 [==============================] - 5s 2ms/step - loss: 0.8421 - accuracy: 0.6501\n",
      "25/25 [==============================] - 0s 1ms/step\n",
      "288/288 [==============================] - 1s 2ms/step - loss: 0.8782 - accuracy: 0.6481\n",
      "25/25 [==============================] - 0s 1ms/step\n",
      "288/288 [==============================] - 1s 2ms/step - loss: 0.8415 - accuracy: 0.6390\n",
      "25/25 [==============================] - 0s 1ms/step\n",
      "288/288 [==============================] - 2s 3ms/step - loss: 0.8172 - accuracy: 0.6562\n",
      "25/25 [==============================] - 0s 2ms/step\n",
      "288/288 [==============================] - 2s 2ms/step - loss: 0.8788 - accuracy: 0.6506\n",
      "25/25 [==============================] - 0s 2ms/step\n",
      "288/288 [==============================] - 2s 2ms/step - loss: 0.8408 - accuracy: 0.6558\n",
      "25/25 [==============================] - 0s 2ms/step\n",
      "288/288 [==============================] - 2s 2ms/step - loss: 0.8507 - accuracy: 0.6599\n",
      "25/25 [==============================] - 1s 3ms/step\n",
      "288/288 [==============================] - 2s 2ms/step - loss: 0.8561 - accuracy: 0.6051\n",
      "25/25 [==============================] - 0s 2ms/step\n",
      "288/288 [==============================] - 2s 2ms/step - loss: 0.8267 - accuracy: 0.6247\n",
      "25/25 [==============================] - 0s 2ms/step\n",
      "288/288 [==============================] - 3s 3ms/step - loss: 0.8483 - accuracy: 0.6606\n",
      "25/25 [==============================] - 0s 2ms/step\n",
      "288/288 [==============================] - 4s 2ms/step - loss: 0.8949 - accuracy: 0.6546\n",
      "25/25 [==============================] - 0s 3ms/step\n",
      "288/288 [==============================] - 4s 3ms/step - loss: 0.8914 - accuracy: 0.5914\n",
      "25/25 [==============================] - 0s 2ms/step\n",
      "288/288 [==============================] - 2s 2ms/step - loss: 0.8504 - accuracy: 0.6350\n",
      "25/25 [==============================] - 0s 1ms/step\n",
      "288/288 [==============================] - 2s 2ms/step - loss: 0.9049 - accuracy: 0.5894\n",
      "25/25 [==============================] - 0s 1ms/step\n",
      "288/288 [==============================] - 2s 2ms/step - loss: 0.8119 - accuracy: 0.6846\n",
      "25/25 [==============================] - 0s 2ms/step\n",
      "288/288 [==============================] - 2s 2ms/step - loss: 0.8734 - accuracy: 0.6325\n",
      "25/25 [==============================] - 0s 2ms/step\n",
      "288/288 [==============================] - 2s 2ms/step - loss: 0.8377 - accuracy: 0.6442\n",
      "25/25 [==============================] - 0s 2ms/step\n",
      "288/288 [==============================] - 1s 2ms/step - loss: 0.8399 - accuracy: 0.6756\n",
      "25/25 [==============================] - 0s 1ms/step\n",
      "288/288 [==============================] - 2s 2ms/step - loss: 0.8061 - accuracy: 0.6826\n",
      "25/25 [==============================] - 0s 1ms/step\n",
      "288/288 [==============================] - 3s 3ms/step - loss: 0.8336 - accuracy: 0.6665\n",
      "25/25 [==============================] - 0s 3ms/step\n",
      "288/288 [==============================] - 2s 2ms/step - loss: 0.8228 - accuracy: 0.6619\n",
      "25/25 [==============================] - 0s 2ms/step\n",
      "288/288 [==============================] - 1s 2ms/step - loss: 0.8133 - accuracy: 0.6725\n",
      "25/25 [==============================] - 0s 1ms/step\n",
      "288/288 [==============================] - 1s 2ms/step - loss: 0.8486 - accuracy: 0.6497\n",
      "25/25 [==============================] - 0s 1ms/step\n",
      "288/288 [==============================] - 1s 2ms/step - loss: 0.8759 - accuracy: 0.6111\n",
      "25/25 [==============================] - 0s 2ms/step\n",
      "288/288 [==============================] - 1s 2ms/step - loss: 0.8524 - accuracy: 0.6139\n",
      "25/25 [==============================] - 0s 2ms/step\n",
      "288/288 [==============================] - 2s 2ms/step - loss: 0.8683 - accuracy: 0.6236\n",
      "25/25 [==============================] - 0s 5ms/step\n",
      "288/288 [==============================] - 2s 3ms/step - loss: 0.8589 - accuracy: 0.5807\n",
      "25/25 [==============================] - 0s 2ms/step\n",
      "288/288 [==============================] - 2s 4ms/step - loss: 0.8732 - accuracy: 0.6561\n",
      "25/25 [==============================] - 0s 2ms/step\n",
      "288/288 [==============================] - 3s 5ms/step - loss: 0.8419 - accuracy: 0.6619\n",
      "25/25 [==============================] - 0s 2ms/step\n",
      "288/288 [==============================] - 3s 2ms/step - loss: 0.8738 - accuracy: 0.6468\n",
      "25/25 [==============================] - 0s 2ms/step\n",
      "288/288 [==============================] - 2s 2ms/step - loss: 0.8412 - accuracy: 0.6708\n",
      "25/25 [==============================] - 0s 1ms/step\n",
      "288/288 [==============================] - 2s 3ms/step - loss: 0.8685 - accuracy: 0.6499\n",
      "25/25 [==============================] - 0s 2ms/step\n",
      "288/288 [==============================] - 2s 2ms/step - loss: 0.8541 - accuracy: 0.6458\n",
      "25/25 [==============================] - 0s 2ms/step\n",
      "288/288 [==============================] - 2s 2ms/step - loss: 0.8094 - accuracy: 0.6786\n",
      "25/25 [==============================] - 0s 5ms/step\n",
      "288/288 [==============================] - 2s 2ms/step - loss: 0.8988 - accuracy: 0.6612\n",
      "25/25 [==============================] - 0s 1ms/step\n",
      "288/288 [==============================] - 2s 2ms/step - loss: 0.8291 - accuracy: 0.6767\n",
      "25/25 [==============================] - 0s 1ms/step\n",
      "288/288 [==============================] - 2s 2ms/step - loss: 0.8500 - accuracy: 0.6649\n",
      "25/25 [==============================] - 0s 2ms/step\n",
      "288/288 [==============================] - 2s 2ms/step - loss: 0.8530 - accuracy: 0.6868\n",
      "25/25 [==============================] - 0s 3ms/step\n",
      "288/288 [==============================] - 2s 2ms/step - loss: 0.8657 - accuracy: 0.6510\n",
      "25/25 [==============================] - 0s 1ms/step\n",
      "288/288 [==============================] - 1s 2ms/step - loss: 0.8661 - accuracy: 0.6278\n",
      "25/25 [==============================] - 0s 1ms/step\n",
      "225/225 [==============================] - 1s 2ms/step - loss: 0.8244 - accuracy: 0.6219\n",
      "25/25 [==============================] - 0s 1ms/step\n",
      "225/225 [==============================] - 1s 2ms/step - loss: 0.8990 - accuracy: 0.6321\n",
      "25/25 [==============================] - 0s 2ms/step\n",
      "225/225 [==============================] - 2s 3ms/step - loss: 0.8885 - accuracy: 0.5610\n",
      "25/25 [==============================] - 0s 2ms/step\n",
      "225/225 [==============================] - 1s 2ms/step - loss: 0.8702 - accuracy: 0.6251\n",
      "25/25 [==============================] - 0s 1ms/step\n",
      "225/225 [==============================] - 1s 2ms/step - loss: 0.9099 - accuracy: 0.6049\n",
      "25/25 [==============================] - 0s 1ms/step\n",
      "225/225 [==============================] - 1s 2ms/step - loss: 0.9141 - accuracy: 0.6000\n",
      "25/25 [==============================] - 0s 1ms/step\n",
      "225/225 [==============================] - 1s 2ms/step - loss: 0.8689 - accuracy: 0.5944\n",
      "25/25 [==============================] - 0s 2ms/step\n",
      "225/225 [==============================] - 1s 2ms/step - loss: 0.8871 - accuracy: 0.6162\n",
      "25/25 [==============================] - 0s 1ms/step\n",
      "225/225 [==============================] - 3s 3ms/step - loss: 0.8119 - accuracy: 0.6204\n",
      "25/25 [==============================] - 0s 2ms/step\n",
      "225/225 [==============================] - 1s 2ms/step - loss: 0.8620 - accuracy: 0.6219\n",
      "25/25 [==============================] - 0s 1ms/step\n",
      "225/225 [==============================] - 3s 3ms/step - loss: 0.9003 - accuracy: 0.5929\n",
      "25/25 [==============================] - 0s 2ms/step\n",
      "225/225 [==============================] - 2s 2ms/step - loss: 0.8520 - accuracy: 0.6019\n",
      "25/25 [==============================] - 0s 2ms/step\n",
      "225/225 [==============================] - 2s 2ms/step - loss: 0.8286 - accuracy: 0.6735\n",
      "25/25 [==============================] - 0s 2ms/step\n",
      "225/225 [==============================] - 2s 2ms/step - loss: 0.8971 - accuracy: 0.6218\n",
      "25/25 [==============================] - 0s 3ms/step\n",
      "225/225 [==============================] - 1s 2ms/step - loss: 0.8792 - accuracy: 0.6025\n",
      "25/25 [==============================] - 0s 1ms/step\n",
      "225/225 [==============================] - 2s 2ms/step - loss: 0.8526 - accuracy: 0.6458\n",
      "25/25 [==============================] - 0s 1ms/step\n",
      "225/225 [==============================] - 1s 2ms/step - loss: 0.8414 - accuracy: 0.6596\n",
      "25/25 [==============================] - 0s 1ms/step\n",
      "225/225 [==============================] - 2s 2ms/step - loss: 0.8978 - accuracy: 0.6256\n"
     ]
    },
    {
     "name": "stdout",
     "output_type": "stream",
     "text": [
      "25/25 [==============================] - 0s 1ms/step\n",
      "225/225 [==============================] - 1s 2ms/step - loss: 0.8579 - accuracy: 0.6201\n",
      "25/25 [==============================] - 0s 1ms/step\n",
      "225/225 [==============================] - 2s 4ms/step - loss: 0.8850 - accuracy: 0.6592\n",
      "25/25 [==============================] - 0s 2ms/step\n",
      "225/225 [==============================] - 2s 3ms/step - loss: 0.8428 - accuracy: 0.6257\n",
      "25/25 [==============================] - 0s 2ms/step\n",
      "225/225 [==============================] - 2s 3ms/step - loss: 0.8625 - accuracy: 0.5951\n",
      "25/25 [==============================] - 0s 2ms/step\n",
      "225/225 [==============================] - 2s 2ms/step - loss: 0.8773 - accuracy: 0.5899\n",
      "25/25 [==============================] - 0s 2ms/step\n",
      "225/225 [==============================] - 2s 3ms/step - loss: 0.8433 - accuracy: 0.6544\n",
      "25/25 [==============================] - 0s 3ms/step\n",
      "225/225 [==============================] - 2s 2ms/step - loss: 0.8534 - accuracy: 0.6376\n",
      "25/25 [==============================] - 0s 2ms/step\n",
      "225/225 [==============================] - 2s 3ms/step - loss: 0.9526 - accuracy: 0.5289\n",
      "25/25 [==============================] - 0s 2ms/step\n",
      "225/225 [==============================] - 1s 2ms/step - loss: 0.8934 - accuracy: 0.5810\n",
      "25/25 [==============================] - 0s 1ms/step\n",
      "225/225 [==============================] - 3s 2ms/step - loss: 0.8904 - accuracy: 0.5404\n",
      "25/25 [==============================] - 0s 2ms/step\n",
      "225/225 [==============================] - 1s 2ms/step - loss: 0.8457 - accuracy: 0.6372\n",
      "25/25 [==============================] - 0s 1ms/step\n",
      "225/225 [==============================] - 1s 2ms/step - loss: 0.8718 - accuracy: 0.5924\n",
      "25/25 [==============================] - 0s 1ms/step\n",
      "225/225 [==============================] - 1s 2ms/step - loss: 0.8652 - accuracy: 0.6325\n",
      "25/25 [==============================] - 0s 1ms/step\n",
      "225/225 [==============================] - 1s 2ms/step - loss: 0.8935 - accuracy: 0.5678\n",
      "25/25 [==============================] - 0s 1ms/step\n",
      "225/225 [==============================] - 2s 3ms/step - loss: 0.9041 - accuracy: 0.6008\n",
      "25/25 [==============================] - 0s 2ms/step\n",
      "225/225 [==============================] - 2s 2ms/step - loss: 0.9441 - accuracy: 0.5007\n",
      "25/25 [==============================] - 0s 2ms/step\n",
      "225/225 [==============================] - 2s 2ms/step - loss: 0.8823 - accuracy: 0.6361\n",
      "25/25 [==============================] - 0s 2ms/step\n",
      "225/225 [==============================] - 2s 2ms/step - loss: 0.8678 - accuracy: 0.5307\n",
      "25/25 [==============================] - 0s 1ms/step\n",
      "225/225 [==============================] - 2s 2ms/step - loss: 0.8605 - accuracy: 0.6681\n",
      "25/25 [==============================] - 0s 1ms/step\n",
      "225/225 [==============================] - 2s 2ms/step - loss: 0.8843 - accuracy: 0.5960\n",
      "25/25 [==============================] - 0s 1ms/step\n",
      "225/225 [==============================] - 2s 3ms/step - loss: 0.9020 - accuracy: 0.6468\n",
      "25/25 [==============================] - 0s 2ms/step\n",
      "225/225 [==============================] - 2s 3ms/step - loss: 0.9124 - accuracy: 0.5181\n",
      "25/25 [==============================] - 0s 2ms/step\n",
      "320/320 [==============================] - 2s 2ms/step - loss: 0.8467 - accuracy: 0.6436\n"
     ]
    }
   ],
   "source": [
    "grid_search = GridSearchCV(estimator = classifier,\n",
    "                           param_grid = parameters,\n",
    "                           scoring = 'accuracy',\n",
    "                           cv = 10)\n",
    "\n",
    "grid_search = grid_search.fit(X_train, y_train)\n",
    "best_parameters = grid_search.best_params_\n",
    "best_accuracy = grid_search.best_score_"
   ]
  },
  {
   "cell_type": "code",
   "execution_count": 83,
   "metadata": {
    "colab": {
     "base_uri": "https://localhost:8080/",
     "height": 52
    },
    "id": "lX3FYSkngLhd",
    "outputId": "5df7a9f7-3720-4021-e5ec-ead8ff38008a"
   },
   "outputs": [
    {
     "name": "stdout",
     "output_type": "stream",
     "text": [
      "{'batch_size': 25, 'nb_epoch': 100, 'optimizer': 'adam'}\n",
      "0.796\n"
     ]
    }
   ],
   "source": [
    "print(best_parameters)\n",
    "print(best_accuracy)"
   ]
  }
 ],
 "metadata": {
  "colab": {
   "provenance": []
  },
  "kernelspec": {
   "display_name": "Python 3 (ipykernel)",
   "language": "python",
   "name": "python3"
  },
  "language_info": {
   "codemirror_mode": {
    "name": "ipython",
    "version": 3
   },
   "file_extension": ".py",
   "mimetype": "text/x-python",
   "name": "python",
   "nbconvert_exporter": "python",
   "pygments_lexer": "ipython3",
   "version": "3.9.12"
  },
  "toc": {
   "base_numbering": 1,
   "nav_menu": {},
   "number_sections": true,
   "sideBar": true,
   "skip_h1_title": false,
   "title_cell": "Table of Contents",
   "title_sidebar": "Contents",
   "toc_cell": false,
   "toc_position": {},
   "toc_section_display": true,
   "toc_window_display": true
  },
  "varInspector": {
   "cols": {
    "lenName": 16,
    "lenType": 16,
    "lenVar": 40
   },
   "kernels_config": {
    "python": {
     "delete_cmd_postfix": "",
     "delete_cmd_prefix": "del ",
     "library": "var_list.py",
     "varRefreshCmd": "print(var_dic_list())"
    },
    "r": {
     "delete_cmd_postfix": ") ",
     "delete_cmd_prefix": "rm(",
     "library": "var_list.r",
     "varRefreshCmd": "cat(var_dic_list()) "
    }
   },
   "position": {
    "height": "373.854px",
    "left": "1763.33px",
    "right": "20px",
    "top": "120px",
    "width": "350px"
   },
   "types_to_exclude": [
    "module",
    "function",
    "builtin_function_or_method",
    "instance",
    "_Feature"
   ],
   "window_display": true
  }
 },
 "nbformat": 4,
 "nbformat_minor": 1
}
